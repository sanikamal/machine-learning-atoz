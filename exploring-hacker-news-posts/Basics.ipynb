{
 "cells": [
  {
   "cell_type": "markdown",
   "metadata": {
    "collapsed": true
   },
   "source": [
    "# Exploring Hacker News Post\n",
    "\n",
    "In this project we will explore posts that were posted on Hacker News. Hacker News is a site started by the startup incubator Y Combinator, where user-submitted stories (known as \"posts\") are voted and commented upon, similar to reddit. Hacker News is extremely popular in technology and startup circles, and posts that make it to the top of Hacker News' listings can get hundreds of thousands of visitors as a result.\n",
    "\n",
    "## Data\n",
    "\n",
    "The data can be found [here](https://www.kaggle.com/hacker-news/hacker-news-posts). It contains almost 300,000 rows, each row representing a post. However we use of a version that been reduced to approximately 20,000 rows by removing all submissions that did not receive any comments, and then randomly sampling from the remaining submissions. "
   ]
  },
  {
   "cell_type": "markdown",
   "metadata": {},
   "source": [
    "## Descriptions of the columns:\n",
    "\n",
    "- `id`: The unique identifier from Hacker News for the post\n",
    "- `title`: The title of the post\n",
    "- `url`: The URL that the posts links to, if it the post has a URL\n",
    "- `num_points`: The number of points the post acquired, calculated as the total number of upvotes minus the total number of downvotes\n",
    "- `num_comments`: The number of comments that were made on the post\n",
    "- `author`: The username of the person who submitted the post\n",
    "- `created_at`: The date and time at which the post was submitted"
   ]
  },
  {
   "cell_type": "markdown",
   "metadata": {},
   "source": [
    "In this project, we are more interested in posts whose titles begin with either Ask HN or Show HN. Users submit Ask HN to ask the Hacker News community a question. Below is an example of Ask HN\n",
    "\n",
    "    Ask HN: How to improve my personal website?\n",
    "    Ask HN: Am I the only one outraged by Twitter shutting down share counts?\n",
    "    Ask HN: Aby recent changes to CSS that broke mobile?\n",
    "\n",
    "Users submit Show HN to show the community a project, product, or something interesting. Below is an example:\n",
    "\n",
    "    Show HN: Wio Link ESP8266 Based Web of Things Hardware Development Platform'\n",
    "    Show HN: Something pointless I made\n",
    "    Show HN: Shanhu.io, a programming playground powered by e8vm\n",
    "\n",
    "Our goal is to compare the 2 types of posts to determine:\n",
    "\n",
    "    Do Ask HN or Show HN receive more comments on average?\n",
    "    Do posts created at a certain time receive more comments on average?\n"
   ]
  },
  {
   "cell_type": "markdown",
   "metadata": {},
   "source": [
    "## Read data and print first five rows"
   ]
  },
  {
   "cell_type": "code",
   "execution_count": 40,
   "metadata": {
    "collapsed": false
   },
   "outputs": [
    {
     "name": "stdout",
     "output_type": "stream",
     "text": [
      "[['id', 'title', 'url', 'num_points', 'num_comments', 'author', 'created_at'],\n",
      " ['12224879',\n",
      "  'Interactive Dynamic Video',\n",
      "  'http://www.interactivedynamicvideo.com/',\n",
      "  '386',\n",
      "  '52',\n",
      "  'ne0phyte',\n",
      "  '8/4/2016 11:52'],\n",
      " ['10975351',\n",
      "  'How to Use Open Source and Shut the Fuck Up at the Same Time',\n",
      "  'http://hueniverse.com/2016/01/26/how-to-use-open-source-and-shut-the-fuck-up-at-the-same-time/',\n",
      "  '39',\n",
      "  '10',\n",
      "  'josep2',\n",
      "  '1/26/2016 19:30'],\n",
      " ['11964716',\n",
      "  \"Florida DJs May Face Felony for April Fools' Water Joke\",\n",
      "  'http://www.thewire.com/entertainment/2013/04/florida-djs-april-fools-water-joke/63798/',\n",
      "  '2',\n",
      "  '1',\n",
      "  'vezycash',\n",
      "  '6/23/2016 22:20'],\n",
      " ['11919867',\n",
      "  'Technology ventures: From Idea to Enterprise',\n",
      "  'https://www.amazon.com/Technology-Ventures-Enterprise-Thomas-Byers/dp/0073523429',\n",
      "  '3',\n",
      "  '1',\n",
      "  'hswarna',\n",
      "  '6/17/2016 0:01']]\n"
     ]
    }
   ],
   "source": [
    "import pprint\n",
    "pp = pprint.PrettyPrinter()\n",
    "from csv import reader\n",
    "with open('hacker_news.csv') as f:\n",
    "    read_file = reader(f)\n",
    "    hn = list(read_file)\n",
    "    pp.pprint(hn[:5])"
   ]
  },
  {
   "cell_type": "markdown",
   "metadata": {
    "collapsed": true
   },
   "source": [
    "## Removing Headers from a List of Lists"
   ]
  },
  {
   "cell_type": "code",
   "execution_count": 41,
   "metadata": {
    "collapsed": false
   },
   "outputs": [
    {
     "name": "stdout",
     "output_type": "stream",
     "text": [
      "['id', 'title', 'url', 'num_points', 'num_comments', 'author', 'created_at']\n",
      "[['12224879',\n",
      "  'Interactive Dynamic Video',\n",
      "  'http://www.interactivedynamicvideo.com/',\n",
      "  '386',\n",
      "  '52',\n",
      "  'ne0phyte',\n",
      "  '8/4/2016 11:52'],\n",
      " ['10975351',\n",
      "  'How to Use Open Source and Shut the Fuck Up at the Same Time',\n",
      "  'http://hueniverse.com/2016/01/26/how-to-use-open-source-and-shut-the-fuck-up-at-the-same-time/',\n",
      "  '39',\n",
      "  '10',\n",
      "  'josep2',\n",
      "  '1/26/2016 19:30'],\n",
      " ['11964716',\n",
      "  \"Florida DJs May Face Felony for April Fools' Water Joke\",\n",
      "  'http://www.thewire.com/entertainment/2013/04/florida-djs-april-fools-water-joke/63798/',\n",
      "  '2',\n",
      "  '1',\n",
      "  'vezycash',\n",
      "  '6/23/2016 22:20'],\n",
      " ['11919867',\n",
      "  'Technology ventures: From Idea to Enterprise',\n",
      "  'https://www.amazon.com/Technology-Ventures-Enterprise-Thomas-Byers/dp/0073523429',\n",
      "  '3',\n",
      "  '1',\n",
      "  'hswarna',\n",
      "  '6/17/2016 0:01'],\n",
      " ['10301696',\n",
      "  'Note by Note: The Making of Steinway L1037 (2007)',\n",
      "  'http://www.nytimes.com/2007/11/07/movies/07stein.html?_r=0',\n",
      "  '8',\n",
      "  '2',\n",
      "  'walterbell',\n",
      "  '9/30/2015 4:12']]\n"
     ]
    }
   ],
   "source": [
    "headers = hn[0]\n",
    "hn = hn[1:]\n",
    "pp.pprint(headers)\n",
    "pp.pprint(hn[:5])"
   ]
  },
  {
   "cell_type": "markdown",
   "metadata": {
    "collapsed": true
   },
   "source": [
    "## Extracting Ask HN and Show HN Posts"
   ]
  },
  {
   "cell_type": "code",
   "execution_count": 42,
   "metadata": {
    "collapsed": false
   },
   "outputs": [
    {
     "name": "stdout",
     "output_type": "stream",
     "text": [
      "Number of ask hn post 1744\n",
      "Number of show hn post 1162\n",
      "Number of other post 17194\n"
     ]
    }
   ],
   "source": [
    "ask_posts = []\n",
    "show_posts = []\n",
    "other_posts = []\n",
    "\n",
    "for post in hn:\n",
    "    title = post[1].lower()\n",
    "    if title.startswith('ask hn'):\n",
    "        ask_posts.append(post)\n",
    "    elif title.startswith('show hn'):\n",
    "        show_posts.append(post)\n",
    "    else:\n",
    "        other_posts.append(post)\n",
    "        \n",
    "print(\"Number of ask hn post {}\".format(len(ask_posts)))\n",
    "print(\"Number of show hn post {}\".format(len(show_posts)))\n",
    "print(\"Number of other post {}\".format(len(other_posts)))\n",
    "        "
   ]
  },
  {
   "cell_type": "markdown",
   "metadata": {},
   "source": [
    "We separated the `ask posts`, `show posts` and `other posts` into 3 list of lists. You can see that we have 1744 ask posts, 1162 show posts and 17194 other posts. Below is the first five rows of the each posts type"
   ]
  },
  {
   "cell_type": "code",
   "execution_count": 43,
   "metadata": {
    "collapsed": false
   },
   "outputs": [
    {
     "name": "stdout",
     "output_type": "stream",
     "text": [
      "ASK POSTS\n",
      "=====================\n",
      "[['12296411',\n",
      "  'Ask HN: How to improve my personal website?',\n",
      "  '',\n",
      "  '2',\n",
      "  '6',\n",
      "  'ahmedbaracat',\n",
      "  '8/16/2016 9:55'],\n",
      " ['10610020',\n",
      "  'Ask HN: Am I the only one outraged by Twitter shutting down share counts?',\n",
      "  '',\n",
      "  '28',\n",
      "  '29',\n",
      "  'tkfx',\n",
      "  '11/22/2015 13:43'],\n",
      " ['11610310',\n",
      "  'Ask HN: Aby recent changes to CSS that broke mobile?',\n",
      "  '',\n",
      "  '1',\n",
      "  '1',\n",
      "  'polskibus',\n",
      "  '5/2/2016 10:14'],\n",
      " ['12210105',\n",
      "  'Ask HN: Looking for Employee #3 How do I do it?',\n",
      "  '',\n",
      "  '1',\n",
      "  '3',\n",
      "  'sph130',\n",
      "  '8/2/2016 14:20'],\n",
      " ['10394168',\n",
      "  'Ask HN: Someone offered to buy my browser extension from me. What now?',\n",
      "  '',\n",
      "  '28',\n",
      "  '17',\n",
      "  'roykolak',\n",
      "  '10/15/2015 16:38']]\n",
      "SHOW POSTS\n",
      "=====================\n",
      "[['10627194',\n",
      "  'Show HN: Wio Link  ESP8266 Based Web of Things Hardware Development '\n",
      "  'Platform',\n",
      "  'https://iot.seeed.cc',\n",
      "  '26',\n",
      "  '22',\n",
      "  'kfihihc',\n",
      "  '11/25/2015 14:03'],\n",
      " ['10646440',\n",
      "  'Show HN: Something pointless I made',\n",
      "  'http://dn.ht/picklecat/',\n",
      "  '747',\n",
      "  '102',\n",
      "  'dhotson',\n",
      "  '11/29/2015 22:46'],\n",
      " ['11590768',\n",
      "  'Show HN: Shanhu.io, a programming playground powered by e8vm',\n",
      "  'https://shanhu.io',\n",
      "  '1',\n",
      "  '1',\n",
      "  'h8liu',\n",
      "  '4/28/2016 18:05'],\n",
      " ['12178806',\n",
      "  'Show HN: Webscope  Easy way for web developers to communicate with '\n",
      "  'Clients',\n",
      "  'http://webscopeapp.com',\n",
      "  '3',\n",
      "  '3',\n",
      "  'fastbrick',\n",
      "  '7/28/2016 7:11'],\n",
      " ['10872799',\n",
      "  'Show HN: GeoScreenshot  Easily test Geo-IP based web pages',\n",
      "  'https://www.geoscreenshot.com/',\n",
      "  '1',\n",
      "  '9',\n",
      "  'kpsychwave',\n",
      "  '1/9/2016 20:45']]\n",
      "OTHER POSTS\n",
      "=====================\n",
      "[['12224879',\n",
      "  'Interactive Dynamic Video',\n",
      "  'http://www.interactivedynamicvideo.com/',\n",
      "  '386',\n",
      "  '52',\n",
      "  'ne0phyte',\n",
      "  '8/4/2016 11:52'],\n",
      " ['10975351',\n",
      "  'How to Use Open Source and Shut the Fuck Up at the Same Time',\n",
      "  'http://hueniverse.com/2016/01/26/how-to-use-open-source-and-shut-the-fuck-up-at-the-same-time/',\n",
      "  '39',\n",
      "  '10',\n",
      "  'josep2',\n",
      "  '1/26/2016 19:30'],\n",
      " ['11964716',\n",
      "  \"Florida DJs May Face Felony for April Fools' Water Joke\",\n",
      "  'http://www.thewire.com/entertainment/2013/04/florida-djs-april-fools-water-joke/63798/',\n",
      "  '2',\n",
      "  '1',\n",
      "  'vezycash',\n",
      "  '6/23/2016 22:20'],\n",
      " ['11919867',\n",
      "  'Technology ventures: From Idea to Enterprise',\n",
      "  'https://www.amazon.com/Technology-Ventures-Enterprise-Thomas-Byers/dp/0073523429',\n",
      "  '3',\n",
      "  '1',\n",
      "  'hswarna',\n",
      "  '6/17/2016 0:01'],\n",
      " ['10301696',\n",
      "  'Note by Note: The Making of Steinway L1037 (2007)',\n",
      "  'http://www.nytimes.com/2007/11/07/movies/07stein.html?_r=0',\n",
      "  '8',\n",
      "  '2',\n",
      "  'walterbell',\n",
      "  '9/30/2015 4:12']]\n"
     ]
    }
   ],
   "source": [
    "print('ASK POSTS\\n=====================')\n",
    "pp.pprint(ask_posts[:5])\n",
    "print('SHOW POSTS\\n=====================')\n",
    "pp.pprint(show_posts[:5])\n",
    "print('OTHER POSTS\\n=====================')\n",
    "pp.pprint(other_posts[:5])"
   ]
  },
  {
   "cell_type": "markdown",
   "metadata": {},
   "source": [
    "## Calculating the Average Number of Comments for Ask HN and Show HN Posts"
   ]
  },
  {
   "cell_type": "code",
   "execution_count": 44,
   "metadata": {
    "collapsed": false
   },
   "outputs": [
    {
     "name": "stdout",
     "output_type": "stream",
     "text": [
      "Average number of comments for ask posts: 14.04\n",
      "Average number of comments for show posts: 10.32\n"
     ]
    }
   ],
   "source": [
    "total_ask_comments = 0\n",
    "for post in ask_posts:\n",
    "    total_ask_comments += int(post[4])\n",
    "avg_ask_comments = total_ask_comments/len(ask_posts)\n",
    "print ('Average number of comments for ask posts: {:.2f}'.format(avg_ask_comments))\n",
    "\n",
    "total_show_comments = 0\n",
    "for post in show_posts:\n",
    "    total_show_comments += int(post[4])\n",
    "avg_show_comments = total_show_comments/len(show_posts)\n",
    "print ('Average number of comments for show posts: {:.2f}'.format(avg_show_comments))\n"
   ]
  },
  {
   "cell_type": "markdown",
   "metadata": {},
   "source": [
    "On average the ask posts receive more comments than the show posts.\n",
    "\n",
    "Ask posts has more comments on average 14 comments than show posts with 10 comments. \n",
    "\n",
    "People are like to answer a question than to comment on a show post. That's why ask post are more likely to receive comments."
   ]
  },
  {
   "cell_type": "markdown",
   "metadata": {},
   "source": [
    "## Finding the Amount of Ask Posts and Comments by Hour Created"
   ]
  },
  {
   "cell_type": "code",
   "execution_count": 45,
   "metadata": {
    "collapsed": false
   },
   "outputs": [
    {
     "name": "stdout",
     "output_type": "stream",
     "text": [
      "Posts created by hour:\n",
      "{'00': 55,\n",
      " '01': 60,\n",
      " '02': 58,\n",
      " '03': 54,\n",
      " '04': 47,\n",
      " '05': 46,\n",
      " '06': 44,\n",
      " '07': 34,\n",
      " '08': 48,\n",
      " '09': 45,\n",
      " '10': 59,\n",
      " '11': 58,\n",
      " '12': 73,\n",
      " '13': 85,\n",
      " '14': 107,\n",
      " '15': 116,\n",
      " '16': 108,\n",
      " '17': 100,\n",
      " '18': 109,\n",
      " '19': 110,\n",
      " '20': 80,\n",
      " '21': 109,\n",
      " '22': 71,\n",
      " '23': 68}\n",
      "======================================\n",
      "Comments posted by hour:\n",
      "{'00': 447,\n",
      " '01': 683,\n",
      " '02': 1381,\n",
      " '03': 421,\n",
      " '04': 337,\n",
      " '05': 464,\n",
      " '06': 397,\n",
      " '07': 267,\n",
      " '08': 492,\n",
      " '09': 251,\n",
      " '10': 793,\n",
      " '11': 641,\n",
      " '12': 687,\n",
      " '13': 1253,\n",
      " '14': 1416,\n",
      " '15': 4477,\n",
      " '16': 1814,\n",
      " '17': 1146,\n",
      " '18': 1439,\n",
      " '19': 1188,\n",
      " '20': 1722,\n",
      " '21': 1745,\n",
      " '22': 479,\n",
      " '23': 543}\n"
     ]
    }
   ],
   "source": [
    "import datetime as dt\n",
    "\n",
    "result_list = []\n",
    "for post in ask_posts:\n",
    "    created_at = post[6]\n",
    "    num_comments = int(post[4])\n",
    "    result_list.append([created_at, num_comments])\n",
    "\n",
    "counts_by_hour = {}\n",
    "comments_by_hour = {}\n",
    "date_format = '%m/%d/%Y %H:%M'\n",
    "for row in result_list:\n",
    "    created_at = dt.datetime.strptime(row[0], date_format)\n",
    "    hour = created_at.strftime('%H')\n",
    "    if hour not in counts_by_hour:\n",
    "        counts_by_hour[hour] = 1\n",
    "        comments_by_hour[hour] = row[1]\n",
    "    else:\n",
    "        counts_by_hour[hour] += 1\n",
    "        comments_by_hour[hour] += row[1]\n",
    "print('Posts created by hour:')\n",
    "pp.pprint(counts_by_hour)\n",
    "print('======================================')\n",
    "print('Comments posted by hour:')\n",
    "pp.pprint(comments_by_hour)"
   ]
  },
  {
   "cell_type": "markdown",
   "metadata": {},
   "source": [
    "Above, we created 2 dictionaries: `counts_by_hour` for the posts created per hour and `comments_by_hour` for the comments created by hour. The hours are in 24h format. For example you can see that at `17(5pm)` there were `100` posts and `1146` comments created."
   ]
  },
  {
   "cell_type": "markdown",
   "metadata": {},
   "source": [
    "## Calculating the Average Number of Comments for Ask HN Posts by Hour\n",
    "Now let's calculate the average number of comments for posts created during each hour of the day. We'll use the counts_by_hour and comments_by_hour dictionaries."
   ]
  },
  {
   "cell_type": "code",
   "execution_count": 46,
   "metadata": {
    "collapsed": false
   },
   "outputs": [
    {
     "name": "stdout",
     "output_type": "stream",
     "text": [
      "Average no's of comments per post:\n",
      "[['00', 8.127272727272727],\n",
      " ['11', 11.051724137931034],\n",
      " ['22', 6.746478873239437],\n",
      " ['06', 9.022727272727273],\n",
      " ['18', 13.20183486238532],\n",
      " ['14', 13.233644859813085],\n",
      " ['05', 10.08695652173913],\n",
      " ['07', 7.852941176470588],\n",
      " ['15', 38.5948275862069],\n",
      " ['23', 7.985294117647059],\n",
      " ['04', 7.170212765957447],\n",
      " ['20', 21.525],\n",
      " ['19', 10.8],\n",
      " ['16', 16.796296296296298],\n",
      " ['01', 11.383333333333333],\n",
      " ['12', 9.41095890410959],\n",
      " ['10', 13.440677966101696],\n",
      " ['02', 23.810344827586206],\n",
      " ['21', 16.009174311926607],\n",
      " ['03', 7.796296296296297],\n",
      " ['17', 11.46],\n",
      " ['08', 10.25],\n",
      " ['13', 14.741176470588234],\n",
      " ['09', 5.5777777777777775]]\n"
     ]
    }
   ],
   "source": [
    "avg_by_hour = []\n",
    "for comment in comments_by_hour:\n",
    "    avg_by_hour.append([comment, comments_by_hour[comment]/counts_by_hour[comment]])\n",
    "print(\"Average no's of comments per post:\")\n",
    "pp.pprint(avg_by_hour)"
   ]
  },
  {
   "cell_type": "markdown",
   "metadata": {},
   "source": [
    "## Sorting and Printing Values from a List of Lists"
   ]
  },
  {
   "cell_type": "code",
   "execution_count": 47,
   "metadata": {
    "collapsed": false
   },
   "outputs": [
    {
     "name": "stdout",
     "output_type": "stream",
     "text": [
      "[[8.127272727272727, '00'],\n",
      " [11.051724137931034, '11'],\n",
      " [6.746478873239437, '22'],\n",
      " [9.022727272727273, '06'],\n",
      " [13.20183486238532, '18'],\n",
      " [13.233644859813085, '14'],\n",
      " [10.08695652173913, '05'],\n",
      " [7.852941176470588, '07'],\n",
      " [38.5948275862069, '15'],\n",
      " [7.985294117647059, '23'],\n",
      " [7.170212765957447, '04'],\n",
      " [21.525, '20'],\n",
      " [10.8, '19'],\n",
      " [16.796296296296298, '16'],\n",
      " [11.383333333333333, '01'],\n",
      " [9.41095890410959, '12'],\n",
      " [13.440677966101696, '10'],\n",
      " [23.810344827586206, '02'],\n",
      " [16.009174311926607, '21'],\n",
      " [7.796296296296297, '03'],\n",
      " [11.46, '17'],\n",
      " [10.25, '08'],\n",
      " [14.741176470588234, '13'],\n",
      " [5.5777777777777775, '09']]\n"
     ]
    }
   ],
   "source": [
    "swap_avg_by_hour = []\n",
    "for h, c in avg_by_hour:\n",
    "    swap_avg_by_hour.append([c,h])\n",
    "pp.pprint(swap_avg_by_hour)"
   ]
  },
  {
   "cell_type": "code",
   "execution_count": 48,
   "metadata": {
    "collapsed": false
   },
   "outputs": [
    {
     "name": "stdout",
     "output_type": "stream",
     "text": [
      "[[38.5948275862069, '15'],\n",
      " [23.810344827586206, '02'],\n",
      " [21.525, '20'],\n",
      " [16.796296296296298, '16'],\n",
      " [16.009174311926607, '21']]\n"
     ]
    }
   ],
   "source": [
    "# sort by the average number of comments\n",
    "sorted_swap = sorted(swap_avg_by_hour, reverse = True)\n",
    "pp.pprint(sorted_swap[:5])"
   ]
  },
  {
   "cell_type": "markdown",
   "metadata": {},
   "source": [
    "As you can see above we sorted through our swapped list and printed the top 5 hours for Ask posts comments. 15(3pm) has the most comments per hour with 38.5 followed by 2am with 23.8"
   ]
  },
  {
   "cell_type": "code",
   "execution_count": 49,
   "metadata": {
    "collapsed": false
   },
   "outputs": [
    {
     "name": "stdout",
     "output_type": "stream",
     "text": [
      "Top 5 Hours for Ask Posts Comments \n",
      "\n",
      "15:00: 38.59 average comments per post\n",
      "02:00: 23.81 average comments per post\n",
      "20:00: 21.52 average comments per post\n",
      "16:00: 16.80 average comments per post\n",
      "21:00: 16.01 average comments per post\n"
     ]
    }
   ],
   "source": [
    "print ('Top 5 Hours for Ask Posts Comments', '\\n')\n",
    "for comment, hour in sorted_swap[:5]:\n",
    "    each_hour = dt.datetime.strptime(hour, '%H').strftime('%H:%M')\n",
    "    comment_per_hour = '{h}: {c:.2f} average comments per post'.format(h = each_hour, c = comment)\n",
    "    print(comment_per_hour)"
   ]
  },
  {
   "cell_type": "markdown",
   "metadata": {},
   "source": [
    "## Conclusions\n",
    "\n",
    "Let's summarize the project.\n",
    "\n",
    "**Post title:** when creating posts, adding Ask HN to your post title will do better for attracting comments than adding Show HN:\n",
    "\n",
    "    Ask HN: 14.04 average comments per post\n",
    "    Show HN: 10.32 average comments per post\n",
    "\n",
    "**Post timing:** the time of day of posting appears to have significant impact on the number of comments that you will attract. Based on an analysis of the Ask HN posts, the top hours are:\n",
    "\n",
    "    15:00: 38.59 average comments per post\n",
    "    02:00: 23.81 average comments per post\n",
    "    20:00: 21.52 average comments per post\n",
    "    16:00: 16.80 average comments per post\n",
    "    21:00: 16.01 average comments per post"
   ]
  },
  {
   "cell_type": "code",
   "execution_count": null,
   "metadata": {
    "collapsed": true
   },
   "outputs": [],
   "source": []
  },
  {
   "cell_type": "code",
   "execution_count": null,
   "metadata": {
    "collapsed": true
   },
   "outputs": [],
   "source": []
  }
 ],
 "metadata": {
  "kernelspec": {
   "display_name": "Python 3",
   "language": "python",
   "name": "python3"
  },
  "language_info": {
   "codemirror_mode": {
    "name": "ipython",
    "version": 3
   },
   "file_extension": ".py",
   "mimetype": "text/x-python",
   "name": "python",
   "nbconvert_exporter": "python",
   "pygments_lexer": "ipython3",
   "version": "3.4.3"
  }
 },
 "nbformat": 4,
 "nbformat_minor": 2
}
