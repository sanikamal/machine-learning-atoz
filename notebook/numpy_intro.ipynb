{
 "cells": [
  {
   "cell_type": "markdown",
   "metadata": {},
   "source": [
    "# NumPy"
   ]
  },
  {
   "cell_type": "markdown",
   "metadata": {},
   "source": [
    "## Introduction to NumPy Arrays\n",
    "Arrays are the main data structure used in machine learning. In Python, arrays from the NumPy library, called N-dimensional arrays or the ndarray, are used as the primary data structure for representing data."
   ]
  },
  {
   "cell_type": "markdown",
   "metadata": {},
   "source": [
    "### NumPy N-dimensional Array\n",
    "NumPy is a Python library that can be used for scientific and numerical applications and is the tool to use for linear algebra operations. The main data structure in NumPy is the ndarray, which is a shorthand name for N-dimensional array. When working with NumPy, data in an ndarray is simply referred to as an array. It is a fixed-sized array in memory that contains data of the same type, such as integers or floating point values.\n",
    "\n",
    "The data type supported by an array can be accessed via the dtype attribute on the array.\n",
    "The dimensions of an array can be accessed via the shape attribute that returns a tuple\n",
    "describing the length of each dimension."
   ]
  },
  {
   "cell_type": "code",
   "execution_count": 1,
   "metadata": {},
   "outputs": [
    {
     "name": "stdout",
     "output_type": "stream",
     "text": [
      "[1.6 8.9 3.6 5.6]\n",
      "(4,)\n",
      "float64\n"
     ]
    }
   ],
   "source": [
    "# Create array\n",
    "import numpy as np\n",
    "\n",
    "l=[1.6,8.9,3.6,5.6]\n",
    "arr=np.array(l)\n",
    "\n",
    "# display array\n",
    "print(arr)\n",
    "# display array shape\n",
    "print(arr.shape)\n",
    "# array datatype\n",
    "print(arr.dtype)"
   ]
  },
  {
   "cell_type": "markdown",
   "metadata": {},
   "source": [
    "### Functions to Create Arrays"
   ]
  },
  {
   "cell_type": "markdown",
   "metadata": {},
   "source": [
    "### Empty\n",
    "The `empty()` function will create a new array of the specified shape. The argument to the\n",
    "function is an array or tuple that specifies the length of each dimension of the array to create.The values or content of the created array will be random and will need to be assigned before use."
   ]
  },
  {
   "cell_type": "code",
   "execution_count": 10,
   "metadata": {},
   "outputs": [
    {
     "name": "stdout",
     "output_type": "stream",
     "text": [
      "[0.00000000e+000 2.12199579e-314 1.58101007e-322]\n"
     ]
    }
   ],
   "source": [
    "arr=np.empty(3)\n",
    "print(arr)"
   ]
  },
  {
   "cell_type": "code",
   "execution_count": 12,
   "metadata": {},
   "outputs": [
    {
     "name": "stdout",
     "output_type": "stream",
     "text": [
      "[[2.0393923e-316 0.0000000e+000 0.0000000e+000 0.0000000e+000]\n",
      " [0.0000000e+000 0.0000000e+000 0.0000000e+000 0.0000000e+000]\n",
      " [0.0000000e+000 0.0000000e+000 0.0000000e+000 0.0000000e+000]]\n"
     ]
    }
   ],
   "source": [
    "# arr=np.empty((3,4))\n",
    "arr=np.empty([3,4])\n",
    "print(arr)"
   ]
  },
  {
   "cell_type": "markdown",
   "metadata": {},
   "source": [
    "### Zeros\n",
    "The `zeros()` function will create a new array of the specified size with the contents filled with zero values. The argument to the function is an array or tuple that specifies the length of each dimension of the array to create."
   ]
  },
  {
   "cell_type": "code",
   "execution_count": 18,
   "metadata": {},
   "outputs": [
    {
     "name": "stdout",
     "output_type": "stream",
     "text": [
      "[0. 0. 0.]\n",
      "[[0. 0. 0. 0. 0.]\n",
      " [0. 0. 0. 0. 0.]\n",
      " [0. 0. 0. 0. 0.]]\n"
     ]
    }
   ],
   "source": [
    "# create a zero array\n",
    "arr=np.zeros(3)\n",
    "# arr=np.zeros(3,)\n",
    "# arr=np.zeros((3))\n",
    "# arr=np.zeros((3,))\n",
    "arr2=np.zeros([3,5])\n",
    "print(arr)\n",
    "print(arr2)"
   ]
  },
  {
   "cell_type": "markdown",
   "metadata": {},
   "source": [
    "### Ones\n",
    "The `ones()` function will create a new array of the specified size with the contents filled with one values. The argument to the function is an array or tuple that specifies the length of each dimension of the array to create."
   ]
  },
  {
   "cell_type": "code",
   "execution_count": 19,
   "metadata": {},
   "outputs": [
    {
     "name": "stdout",
     "output_type": "stream",
     "text": [
      "[1. 1. 1. 1. 1.]\n",
      "[[1. 1. 1. 1. 1. 1.]\n",
      " [1. 1. 1. 1. 1. 1.]\n",
      " [1. 1. 1. 1. 1. 1.]\n",
      " [1. 1. 1. 1. 1. 1.]]\n",
      "[[[1. 1. 1. 1.]\n",
      "  [1. 1. 1. 1.]\n",
      "  [1. 1. 1. 1.]]\n",
      "\n",
      " [[1. 1. 1. 1.]\n",
      "  [1. 1. 1. 1.]\n",
      "  [1. 1. 1. 1.]]]\n"
     ]
    }
   ],
   "source": [
    "arr=np.ones(5)\n",
    "arr2=np.ones([4,6])\n",
    "arr3=np.ones([2,3,4])\n",
    "print(arr)\n",
    "print(arr2)\n",
    "print(arr3)"
   ]
  },
  {
   "cell_type": "markdown",
   "metadata": {},
   "source": [
    "### Combining Arrays\n",
    "NumPy provides many functions to create new arrays from existing arrays."
   ]
  },
  {
   "cell_type": "markdown",
   "metadata": {},
   "source": [
    "### Vertical Stack\n",
    "Given two or more existing arrays, you can stack them vertically using the `vstack()` function."
   ]
  },
  {
   "cell_type": "code",
   "execution_count": 28,
   "metadata": {},
   "outputs": [
    {
     "name": "stdout",
     "output_type": "stream",
     "text": [
      "[[1 2 3 4]\n",
      " [4 5 6 7]]\n",
      "(2, 4)\n"
     ]
    }
   ],
   "source": [
    "# create array with vstack\n",
    "\n",
    "arr=np.array([1,2,3,4])\n",
    "arr2=np.array([4,5,6,7])\n",
    "arr3=np.vstack((arr,arr2))\n",
    "print(arr3)\n",
    "print(arr3.shape)"
   ]
  },
  {
   "cell_type": "code",
   "execution_count": 29,
   "metadata": {},
   "outputs": [
    {
     "name": "stdout",
     "output_type": "stream",
     "text": [
      "[[1 2 3 4]\n",
      " [1 2 3 4]\n",
      " [1 2 3 4]\n",
      " [1 2 3 4]]\n",
      "(4, 4)\n"
     ]
    }
   ],
   "source": [
    "arr=np.array([[1,2,3,4],[1,2,3,4]])\n",
    "arr2=np.array([[1,2,3,4],[1,2,3,4]])\n",
    "arr3=np.vstack((arr,arr2))\n",
    "print(arr3)\n",
    "print(arr3.shape)"
   ]
  },
  {
   "cell_type": "markdown",
   "metadata": {},
   "source": [
    "### Horizontal Stack\n",
    "Given two or more existing arrays, you can stack them horizontally using the `hstack()` function."
   ]
  },
  {
   "cell_type": "code",
   "execution_count": 31,
   "metadata": {},
   "outputs": [
    {
     "name": "stdout",
     "output_type": "stream",
     "text": [
      "[1. 1. 1. 1. 1.]\n",
      "[1. 1. 1. 1. 1.]\n",
      "[1. 1. 1. 1. 1. 1. 1. 1. 1. 1.]\n",
      "(10,)\n"
     ]
    }
   ],
   "source": [
    "arr=np.ones(5)\n",
    "arr2=np.ones(5)\n",
    "arr3=np.hstack((arr,arr2))\n",
    "print(arr)\n",
    "print(arr2)\n",
    "print(arr3)\n",
    "print(arr3.shape)"
   ]
  },
  {
   "cell_type": "code",
   "execution_count": 41,
   "metadata": {},
   "outputs": [
    {
     "name": "stdout",
     "output_type": "stream",
     "text": [
      "[[1. 1. 1. 1. 1.]\n",
      " [1. 1. 1. 1. 1.]\n",
      " [1. 1. 1. 1. 1.]\n",
      " [1. 1. 1. 1. 1.]\n",
      " [1. 1. 1. 1. 1.]]\n",
      "[[1. 1. 1. 1. 1.]\n",
      " [1. 1. 1. 1. 1.]\n",
      " [1. 1. 1. 1. 1.]\n",
      " [1. 1. 1. 1. 1.]\n",
      " [1. 1. 1. 1. 1.]]\n",
      "[[1. 1. 1. 1. 1. 1. 1. 1. 1. 1.]\n",
      " [1. 1. 1. 1. 1. 1. 1. 1. 1. 1.]\n",
      " [1. 1. 1. 1. 1. 1. 1. 1. 1. 1.]\n",
      " [1. 1. 1. 1. 1. 1. 1. 1. 1. 1.]\n",
      " [1. 1. 1. 1. 1. 1. 1. 1. 1. 1.]]\n",
      "(5, 10)\n"
     ]
    }
   ],
   "source": [
    "arr=np.ones((5,5))\n",
    "arr2=np.ones((5,5))\n",
    "arr3=np.hstack((arr,arr2))\n",
    "print(arr)\n",
    "print(arr2)\n",
    "print(arr3)\n",
    "print(arr3.shape)"
   ]
  },
  {
   "cell_type": "code",
   "execution_count": 45,
   "metadata": {},
   "outputs": [
    {
     "name": "stdout",
     "output_type": "stream",
     "text": [
      "[[1. 1. 1. 1. 1.]\n",
      " [1. 1. 1. 1. 1.]\n",
      " [1. 1. 1. 1. 1.]\n",
      " [1. 1. 1. 1. 1.]\n",
      " [1. 1. 1. 1. 1.]]\n",
      "[[0. 0. 0. 0. 0.]\n",
      " [0. 0. 0. 0. 0.]\n",
      " [0. 0. 0. 0. 0.]\n",
      " [0. 0. 0. 0. 0.]\n",
      " [0. 0. 0. 0. 0.]]\n",
      "[[1. 1. 1. 1. 1. 0. 0. 0. 0. 0.]\n",
      " [1. 1. 1. 1. 1. 0. 0. 0. 0. 0.]\n",
      " [1. 1. 1. 1. 1. 0. 0. 0. 0. 0.]\n",
      " [1. 1. 1. 1. 1. 0. 0. 0. 0. 0.]\n",
      " [1. 1. 1. 1. 1. 0. 0. 0. 0. 0.]]\n",
      "(5, 10)\n"
     ]
    }
   ],
   "source": [
    "arr=np.ones((5,5))\n",
    "arr2=np.zeros((5,5))\n",
    "arr3=np.hstack((arr,arr2))\n",
    "print(arr)\n",
    "print(arr2)\n",
    "print(arr3)\n",
    "print(arr3.shape)"
   ]
  },
  {
   "cell_type": "code",
   "execution_count": 36,
   "metadata": {},
   "outputs": [
    {
     "name": "stdout",
     "output_type": "stream",
     "text": [
      "[[0. 0. 0. 0. 0.]\n",
      " [0. 0. 0. 0. 0.]\n",
      " [0. 0. 0. 0. 0.]\n",
      " [0. 0. 0. 0. 0.]\n",
      " [0. 0. 0. 0. 0.]]\n",
      "[[1. 1. 1. 1. 1.]\n",
      " [1. 1. 1. 1. 1.]\n",
      " [1. 1. 1. 1. 1.]\n",
      " [1. 1. 1. 1. 1.]\n",
      " [1. 1. 1. 1. 1.]]\n",
      "[[0. 0. 0. 0. 0. 1. 1. 1. 1. 1.]\n",
      " [0. 0. 0. 0. 0. 1. 1. 1. 1. 1.]\n",
      " [0. 0. 0. 0. 0. 1. 1. 1. 1. 1.]\n",
      " [0. 0. 0. 0. 0. 1. 1. 1. 1. 1.]\n",
      " [0. 0. 0. 0. 0. 1. 1. 1. 1. 1.]]\n",
      "(5, 10)\n"
     ]
    }
   ],
   "source": [
    "arr=np.zeros((5,5))\n",
    "arr2=np.ones((5,5))\n",
    "arr3=np.hstack((arr,arr2))\n",
    "print(arr)\n",
    "print(arr2)\n",
    "print(arr3)\n",
    "print(arr3.shape)"
   ]
  },
  {
   "cell_type": "markdown",
   "metadata": {},
   "source": [
    "### One-Dimensional List to Array"
   ]
  },
  {
   "cell_type": "code",
   "execution_count": 46,
   "metadata": {},
   "outputs": [
    {
     "name": "stdout",
     "output_type": "stream",
     "text": [
      "[ 2  6  5  7  8  9 34 55]\n",
      "<class 'numpy.ndarray'>\n"
     ]
    }
   ],
   "source": [
    "data=[2,6,5,7,8,9,34,55]\n",
    "arr=np.array(data)\n",
    "print(arr)\n",
    "print(type(arr))"
   ]
  },
  {
   "cell_type": "markdown",
   "metadata": {},
   "source": [
    "## List of Lists to Array"
   ]
  },
  {
   "cell_type": "code",
   "execution_count": 47,
   "metadata": {},
   "outputs": [
    {
     "name": "stdout",
     "output_type": "stream",
     "text": [
      "[[ 2  6  5  7  8  9 34 55]\n",
      " [ 2  6  5  7  8  9 34 55]\n",
      " [ 2  6  5  7  8  9 34 55]]\n",
      "<class 'numpy.ndarray'>\n"
     ]
    }
   ],
   "source": [
    "data=[[2,6,5,7,8,9,34,55],\n",
    "     [2,6,5,7,8,9,34,55],\n",
    "     [2,6,5,7,8,9,34,55]\n",
    "     ]\n",
    "arr=np.array(data)\n",
    "print(arr)\n",
    "print(type(arr))"
   ]
  },
  {
   "cell_type": "markdown",
   "metadata": {},
   "source": [
    "## Array Indexing\n",
    "Once your data is represented using a NumPy array, you can access it using indexing."
   ]
  },
  {
   "cell_type": "markdown",
   "metadata": {},
   "source": [
    "### One-Dimensional Indexing"
   ]
  },
  {
   "cell_type": "code",
   "execution_count": 49,
   "metadata": {},
   "outputs": [
    {
     "name": "stdout",
     "output_type": "stream",
     "text": [
      "4\n",
      "8\n",
      "44\n",
      "8\n"
     ]
    }
   ],
   "source": [
    "data=np.array([4,6,8,9,55,44])\n",
    "# index data\n",
    "print(data[0])\n",
    "print(data[2])\n",
    "print(data[-1])\n",
    "print(data[-4])"
   ]
  },
  {
   "cell_type": "markdown",
   "metadata": {},
   "source": [
    "### Two-Dimensional Indexing\n",
    "Indexing two-dimensional data is similar to indexing one-dimensional data, except that a comma is used to separate the index for each dimension."
   ]
  },
  {
   "cell_type": "code",
   "execution_count": 52,
   "metadata": {},
   "outputs": [
    {
     "name": "stdout",
     "output_type": "stream",
     "text": [
      "11\n"
     ]
    }
   ],
   "source": [
    "# define array\n",
    "data = np.array([\n",
    "[11, 22,33],\n",
    "[33, 44,55],\n",
    "[55, 66,77]])\n",
    "# index data\n",
    "print(data[0,0])"
   ]
  },
  {
   "cell_type": "code",
   "execution_count": 53,
   "metadata": {},
   "outputs": [
    {
     "name": "stdout",
     "output_type": "stream",
     "text": [
      "[11 22 33]\n"
     ]
    }
   ],
   "source": [
    "# index row of two-dimensional array\n",
    "print(data[0,])"
   ]
  },
  {
   "cell_type": "markdown",
   "metadata": {},
   "source": [
    "### One-Dimensional Slicing"
   ]
  },
  {
   "cell_type": "code",
   "execution_count": 57,
   "metadata": {},
   "outputs": [
    {
     "name": "stdout",
     "output_type": "stream",
     "text": [
      "[11 22 33 44 55]\n",
      "[33 44]\n"
     ]
    }
   ],
   "source": [
    "# slice a one-dimensional array\n",
    "data = np.array([11, 22, 33, 44, 55])\n",
    "print(data[:])\n",
    "print(data[2:4])"
   ]
  },
  {
   "cell_type": "code",
   "execution_count": 59,
   "metadata": {},
   "outputs": [
    {
     "name": "stdout",
     "output_type": "stream",
     "text": [
      "[44 55]\n"
     ]
    }
   ],
   "source": [
    "# negative slicing of a one-dimensional array\n",
    "data = np.array([11, 22, 33, 44, 55])\n",
    "print(data[-2:])"
   ]
  },
  {
   "cell_type": "markdown",
   "metadata": {},
   "source": [
    "### Two-Dimensional Slicing"
   ]
  },
  {
   "cell_type": "code",
   "execution_count": 61,
   "metadata": {},
   "outputs": [
    {
     "name": "stdout",
     "output_type": "stream",
     "text": [
      "[[11 22 33]\n",
      " [44 55 66]\n",
      " [77 88 99]]\n",
      "[ 45  75 105]\n"
     ]
    }
   ],
   "source": [
    "# split input and output data\n",
    "data = np.array([\n",
    "    [11, 22, 33,45],\n",
    "    [44, 55, 66,75],\n",
    "    [77, 88, 99,105]])\n",
    "\n",
    "# separate data\n",
    "X, y = data[:, :-1], data[:, -1]\n",
    "print(X)\n",
    "print(y)"
   ]
  },
  {
   "cell_type": "code",
   "execution_count": 68,
   "metadata": {},
   "outputs": [
    {
     "name": "stdout",
     "output_type": "stream",
     "text": [
      "[[ 11.  22.  33.  45.]\n",
      " [ 44.  55.  66.  75.]\n",
      " [ 77.  88.  99. 105.]]\n",
      "[[ 0.23727559  0.90116729  0.04527181  0.3934552 ]\n",
      " [-1.15902711  0.81905649  0.45377084  0.44511357]]\n"
     ]
    }
   ],
   "source": [
    "# split train and test data\n",
    "data = np.array([\n",
    "    [11, 22, 33,45],\n",
    "    [44, 55, 66,75],\n",
    "    [77, 88, 99,105],\n",
    "    np.random.random(4),\n",
    "     np.random.randn(4)\n",
    "])\n",
    "# separate data\n",
    "split = 3\n",
    "train,test = data[:split,:],data[split:,:]\n",
    "print(train)\n",
    "print(test)"
   ]
  },
  {
   "cell_type": "markdown",
   "metadata": {},
   "source": [
    "## Array Reshaping\n",
    "\n",
    "### Data Shape\n",
    "NumPy arrays have a shape attribute that returns a tuple of the length of each dimension of\n",
    "the array. For example:"
   ]
  },
  {
   "cell_type": "code",
   "execution_count": 70,
   "metadata": {},
   "outputs": [
    {
     "name": "stdout",
     "output_type": "stream",
     "text": [
      "(5,)\n"
     ]
    }
   ],
   "source": [
    "# shape of one-dimensional array\n",
    "data=np.random.randn(5)\n",
    "print(data.shape)"
   ]
  },
  {
   "cell_type": "code",
   "execution_count": 73,
   "metadata": {},
   "outputs": [
    {
     "name": "stdout",
     "output_type": "stream",
     "text": [
      "(3, 5)\n"
     ]
    }
   ],
   "source": [
    "# shape of two-dimensional array\n",
    "data=np.array([np.random.randn(5),\n",
    "      np.random.randn(5),\n",
    "      np.random.randn(5)])\n",
    "print(data.shape)"
   ]
  },
  {
   "cell_type": "code",
   "execution_count": 74,
   "metadata": {},
   "outputs": [
    {
     "name": "stdout",
     "output_type": "stream",
     "text": [
      " Rows: 3 \n",
      " Cols: 5 \n"
     ]
    }
   ],
   "source": [
    "# row and column shape of two-dimensional array\n",
    "data = np.array([\n",
    "    np.random.randn(5),\n",
    "    np.random.randn(5),\n",
    "    np.random.randn(5)\n",
    "])\n",
    "print( ' Rows: %d ' % data.shape[0])\n",
    "print( ' Cols: %d ' % data.shape[1])"
   ]
  },
  {
   "cell_type": "markdown",
   "metadata": {},
   "source": [
    "### Reshape 1D to 2D Array"
   ]
  },
  {
   "cell_type": "code",
   "execution_count": 78,
   "metadata": {},
   "outputs": [
    {
     "name": "stdout",
     "output_type": "stream",
     "text": [
      "[11 22 33 44 55 66 77 88]\n",
      "(8,)\n",
      "[[11]\n",
      " [22]\n",
      " [33]\n",
      " [44]\n",
      " [55]\n",
      " [66]\n",
      " [77]\n",
      " [88]]\n",
      "(8, 1)\n"
     ]
    }
   ],
   "source": [
    "# reshape 1D array to 2D\n",
    "data = np.array([11, 22, 33, 44, 55,66,77,88])\n",
    "print(data)\n",
    "print(data.shape)\n",
    "# reshape\n",
    "data = data.reshape((data.shape[0], 1))\n",
    "print(data)\n",
    "print(data.shape)"
   ]
  },
  {
   "cell_type": "markdown",
   "metadata": {},
   "source": [
    "### Reshape 2D to 3D Array"
   ]
  },
  {
   "cell_type": "code",
   "execution_count": 80,
   "metadata": {},
   "outputs": [
    {
     "name": "stdout",
     "output_type": "stream",
     "text": [
      "[[0.48796968 0.27820108 0.12555154]\n",
      " [0.39348364 0.29872044 0.04114748]]\n",
      "(2, 3)\n",
      "[[[0.48796968]\n",
      "  [0.27820108]\n",
      "  [0.12555154]]\n",
      "\n",
      " [[0.39348364]\n",
      "  [0.29872044]\n",
      "  [0.04114748]]]\n",
      "(2, 3, 1)\n"
     ]
    }
   ],
   "source": [
    "# reshape 2D array to 3D\n",
    "data=np.random.random((2,3))\n",
    "print(data)\n",
    "print(data.shape)\n",
    "# reshape\n",
    "data = data.reshape((data.shape[0], data.shape[1], 1))\n",
    "print(data)\n",
    "print(data.shape)"
   ]
  },
  {
   "cell_type": "markdown",
   "metadata": {},
   "source": [
    "### # reshape 3D to 4D array"
   ]
  },
  {
   "cell_type": "code",
   "execution_count": 82,
   "metadata": {},
   "outputs": [
    {
     "name": "stdout",
     "output_type": "stream",
     "text": [
      "[[[0.56042289 0.1249554  0.25889058]\n",
      "  [0.20462487 0.06564403 0.06969129]\n",
      "  [0.80124299 0.07694329 0.3365229 ]]\n",
      "\n",
      " [[0.39711319 0.24904178 0.89131716]\n",
      "  [0.82260919 0.03247181 0.17578672]\n",
      "  [0.89642845 0.97737841 0.0741536 ]]]\n",
      "(2, 3, 3)\n",
      "[[[[0.56042289]\n",
      "   [0.1249554 ]\n",
      "   [0.25889058]]\n",
      "\n",
      "  [[0.20462487]\n",
      "   [0.06564403]\n",
      "   [0.06969129]]\n",
      "\n",
      "  [[0.80124299]\n",
      "   [0.07694329]\n",
      "   [0.3365229 ]]]\n",
      "\n",
      "\n",
      " [[[0.39711319]\n",
      "   [0.24904178]\n",
      "   [0.89131716]]\n",
      "\n",
      "  [[0.82260919]\n",
      "   [0.03247181]\n",
      "   [0.17578672]]\n",
      "\n",
      "  [[0.89642845]\n",
      "   [0.97737841]\n",
      "   [0.0741536 ]]]]\n",
      "(2, 3, 3, 1)\n"
     ]
    }
   ],
   "source": [
    "# reshape 3D array to 4D\n",
    "data=np.random.random((2,3,3))\n",
    "print(data)\n",
    "print(data.shape)\n",
    "# reshape\n",
    "data = data.reshape((data.shape[0], data.shape[1],data.shape[2], 1))\n",
    "print(data)\n",
    "print(data.shape)"
   ]
  },
  {
   "cell_type": "markdown",
   "metadata": {},
   "source": [
    "## NumPy Array Broadcasting\n",
    "Arrays with different sizes cannot be added, subtracted, or generally be used in arithmetic. A way to overcome this is to duplicate the smaller array so that it has the dimensionality and size as the larger array. This is called array broadcasting and is available in NumPy when performing array arithmetic."
   ]
  },
  {
   "cell_type": "markdown",
   "metadata": {},
   "source": [
    "### Scalar and One-Dimensional Array\n",
    "A single value or scalar can be used in arithmetic with a one-dimensional array."
   ]
  },
  {
   "cell_type": "code",
   "execution_count": 84,
   "metadata": {},
   "outputs": [
    {
     "name": "stdout",
     "output_type": "stream",
     "text": [
      "[1 2 3 4 5]\n",
      "2\n",
      "[3 4 5 6 7]\n"
     ]
    }
   ],
   "source": [
    "# broadcast scalar to one-dimensional array\n",
    "from numpy import array\n",
    "# define array\n",
    "a = array([1, 2, 3,4,5])\n",
    "print(a)\n",
    "# define scalar\n",
    "b = 2\n",
    "print(b)\n",
    "# broadcast\n",
    "c = a + b\n",
    "print(c)"
   ]
  },
  {
   "cell_type": "markdown",
   "metadata": {},
   "source": [
    "## Scalar and Two-Dimensional Array\n",
    "A scalar value can be used in arithmetic with a two-dimensional array."
   ]
  },
  {
   "cell_type": "code",
   "execution_count": 85,
   "metadata": {},
   "outputs": [
    {
     "name": "stdout",
     "output_type": "stream",
     "text": [
      "[[0.21242801 0.22299696 0.22690196 0.51090362]\n",
      " [0.32349611 0.4440564  0.36836489 0.47745511]\n",
      " [0.26076767 0.19656505 0.98632904 0.08219226]]\n",
      "2\n",
      "[[2.21242801 2.22299696 2.22690196 2.51090362]\n",
      " [2.32349611 2.4440564  2.36836489 2.47745511]\n",
      " [2.26076767 2.19656505 2.98632904 2.08219226]]\n"
     ]
    }
   ],
   "source": [
    "# broadcast scalar to two-dimensional array\n",
    "A=np.random.random((3,4))\n",
    "print(A)\n",
    "# define scalar\n",
    "b = 2\n",
    "print(b)\n",
    "# broadcast\n",
    "C = A + b\n",
    "print(C)"
   ]
  },
  {
   "cell_type": "markdown",
   "metadata": {},
   "source": [
    "### One-Dimensional and Two-Dimensional Arrays\n",
    "A one-dimensional array can be used in arithmetic with a two-dimensional array. For example, we can imagine a two-dimensional array A with 2 rows and 3 columns added to a one-dimensional array b with 3 values."
   ]
  },
  {
   "cell_type": "code",
   "execution_count": 90,
   "metadata": {},
   "outputs": [
    {
     "name": "stdout",
     "output_type": "stream",
     "text": [
      "[[0.13768286 0.34503133 0.35702293 0.27597146]\n",
      " [0.75644295 0.62547429 0.01241609 0.05387875]\n",
      " [0.17133453 0.48311501 0.76920716 0.28087717]]\n",
      "[1. 1. 1. 1.]\n",
      "[[1.13768286 1.34503133 1.35702293 1.27597146]\n",
      " [1.75644295 1.62547429 1.01241609 1.05387875]\n",
      " [1.17133453 1.48311501 1.76920716 1.28087717]]\n"
     ]
    }
   ],
   "source": [
    "A=np.random.random((3,4))\n",
    "print(A)\n",
    "# define one-dimensional array\n",
    "b = np.ones(4)\n",
    "print(b)\n",
    "# broadcast\n",
    "C = A + b\n",
    "print(C)"
   ]
  },
  {
   "cell_type": "code",
   "execution_count": 92,
   "metadata": {},
   "outputs": [],
   "source": [
    "# broadcasting error\n",
    "# A = array([\n",
    "#     [1, 2, 3],\n",
    "#     [1, 2, 3]])\n",
    "# print(A.shape)\n",
    "# define one-dimensional array\n",
    "# b = array([1, 2])\n",
    "# print(b.shape)\n",
    "# attempt broadcast\n",
    "# C = A + b\n",
    "# print(C)"
   ]
  },
  {
   "cell_type": "code",
   "execution_count": null,
   "metadata": {},
   "outputs": [],
   "source": []
  }
 ],
 "metadata": {
  "kernelspec": {
   "display_name": "Python 3",
   "language": "python",
   "name": "python3"
  },
  "language_info": {
   "codemirror_mode": {
    "name": "ipython",
    "version": 3
   },
   "file_extension": ".py",
   "mimetype": "text/x-python",
   "name": "python",
   "nbconvert_exporter": "python",
   "pygments_lexer": "ipython3",
   "version": "3.6.8"
  }
 },
 "nbformat": 4,
 "nbformat_minor": 2
}
